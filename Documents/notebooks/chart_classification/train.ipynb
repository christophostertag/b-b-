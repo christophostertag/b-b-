{
 "cells": [
  {
   "cell_type": "code",
   "execution_count": 1,
   "metadata": {},
   "outputs": [
    {
     "name": "stderr",
     "output_type": "stream",
     "text": [
      "Using TensorFlow backend.\n"
     ]
    }
   ],
   "source": [
    "from myFunctions import *"
   ]
  },
  {
   "cell_type": "code",
   "execution_count": 4,
   "metadata": {},
   "outputs": [
    {
     "name": "stderr",
     "output_type": "stream",
     "text": [
      "100%|██████████| 2/2 [00:00<00:00, 158.19 images/s]\n",
      "100%|██████████| 8/8 [00:00<00:00, 251.53 images/s]\n",
      "100%|██████████| 2/2 [00:00<00:00, 215.94 images/s]\n",
      "100%|██████████| 8/8 [00:00<00:00, 210.76 images/s]\n",
      "100%|██████████| 2/2 [00:00<00:00, 156.42 images/s]\n",
      "100%|██████████| 8/8 [00:00<00:00, 335.44 images/s]\n",
      "100%|██████████| 2/2 [00:00<00:00, 290.70 images/s]\n",
      "100%|██████████| 8/8 [00:00<00:00, 290.37 images/s]\n",
      "100%|██████████| 2/2 [00:00<00:00, 395.84 images/s]\n",
      "100%|██████████| 8/8 [00:00<00:00, 417.95 images/s]\n",
      "100%|██████████| 5/5 [00:00<00:00, 2101.35 labels/s]\n"
     ]
    }
   ],
   "source": [
    "path = \"plots/0\"\n",
    "split=0.2\n",
    "X_train, X_test = get_images(path, split=split)\n",
    "Y_train,Y_test, labelMap = get_labels(path,split=split)\n",
    "X = np.append(X_train,X_test).reshape(-1,217, 334, 1)\n",
    "Y = np.append(Y_train,Y_test).reshape(-1,5)"
   ]
  },
  {
   "cell_type": "code",
   "execution_count": 5,
   "metadata": {},
   "outputs": [
    {
     "data": {
      "text/plain": [
       "(50, 217, 334, 1)"
      ]
     },
     "execution_count": 5,
     "metadata": {},
     "output_type": "execute_result"
    }
   ],
   "source": [
    "X.shape"
   ]
  },
  {
   "cell_type": "code",
   "execution_count": 6,
   "metadata": {},
   "outputs": [
    {
     "name": "stdout",
     "output_type": "stream",
     "text": [
      "_________________________________________________________________\n",
      "Layer (type)                 Output Shape              Param #   \n",
      "=================================================================\n",
      "conv2d_5 (Conv2D)            (None, 215, 332, 4)       40        \n",
      "_________________________________________________________________\n",
      "conv2d_6 (Conv2D)            (None, 213, 330, 4)       148       \n",
      "_________________________________________________________________\n",
      "dropout_3 (Dropout)          (None, 213, 330, 4)       0         \n",
      "_________________________________________________________________\n",
      "max_pooling2d_3 (MaxPooling2 (None, 106, 165, 4)       0         \n",
      "_________________________________________________________________\n",
      "conv2d_7 (Conv2D)            (None, 104, 163, 4)       148       \n",
      "_________________________________________________________________\n",
      "conv2d_8 (Conv2D)            (None, 102, 161, 4)       148       \n",
      "_________________________________________________________________\n",
      "dropout_4 (Dropout)          (None, 102, 161, 4)       0         \n",
      "_________________________________________________________________\n",
      "max_pooling2d_4 (MaxPooling2 (None, 51, 80, 4)         0         \n",
      "_________________________________________________________________\n",
      "flatten_2 (Flatten)          (None, 16320)             0         \n",
      "_________________________________________________________________\n",
      "dense_1 (Dense)              (None, 16)                261136    \n",
      "_________________________________________________________________\n",
      "dense_2 (Dense)              (None, 5)                 85        \n",
      "=================================================================\n",
      "Total params: 261,705\n",
      "Trainable params: 261,705\n",
      "Non-trainable params: 0\n",
      "_________________________________________________________________\n"
     ]
    }
   ],
   "source": [
    "model = load_model(\"models/patternCategorizer_s10_v4.h5\")\n",
    "model.summary()"
   ]
  },
  {
   "cell_type": "code",
   "execution_count": 7,
   "metadata": {},
   "outputs": [
    {
     "name": "stdout",
     "output_type": "stream",
     "text": [
      "\r",
      "10/10 [==============================] - 0s 28ms/step\n"
     ]
    },
    {
     "data": {
      "text/plain": [
       "[0.008738970384001732, 1.0]"
      ]
     },
     "execution_count": 7,
     "metadata": {},
     "output_type": "execute_result"
    }
   ],
   "source": [
    "n_val=len(X)//5\n",
    "model.evaluate(X[-n_val:],Y[-n_val:])"
   ]
  },
  {
   "cell_type": "code",
   "execution_count": 8,
   "metadata": {},
   "outputs": [
    {
     "name": "stdout",
     "output_type": "stream",
     "text": [
      "Train on 40 samples, validate on 10 samples\n",
      "Epoch 1/1\n",
      "40/40 [==============================] - 2s 50ms/step - loss: 0.0086 - acc: 1.0000 - val_loss: 0.0084 - val_acc: 1.0000\n"
     ]
    },
    {
     "data": {
      "text/plain": [
       "<keras.callbacks.History at 0x7f8d9f785f98>"
      ]
     },
     "execution_count": 8,
     "metadata": {},
     "output_type": "execute_result"
    }
   ],
   "source": [
    "model.fit(X,Y,epochs=1,batch_size=16, validation_split=split)"
   ]
  },
  {
   "cell_type": "code",
   "execution_count": 9,
   "metadata": {},
   "outputs": [
    {
     "name": "stdout",
     "output_type": "stream",
     "text": [
      "model saved\n"
     ]
    }
   ],
   "source": [
    "save_model(model,\"models/patternCategorizer_s0_v1.h5\")"
   ]
  },
  {
   "cell_type": "code",
   "execution_count": null,
   "metadata": {},
   "outputs": [],
   "source": []
  }
 ],
 "metadata": {
  "kernelspec": {
   "display_name": "Python 3",
   "language": "python",
   "name": "python3"
  },
  "language_info": {
   "codemirror_mode": {
    "name": "ipython",
    "version": 3
   },
   "file_extension": ".py",
   "mimetype": "text/x-python",
   "name": "python",
   "nbconvert_exporter": "python",
   "pygments_lexer": "ipython3",
   "version": "3.6.7"
  }
 },
 "nbformat": 4,
 "nbformat_minor": 2
}
