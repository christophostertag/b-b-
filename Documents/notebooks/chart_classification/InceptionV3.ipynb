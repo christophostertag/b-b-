{
 "cells": [
  {
   "cell_type": "code",
   "execution_count": 5,
   "metadata": {},
   "outputs": [],
   "source": [
    "import numpy as np\n",
    "from keras.models import Sequential, load_model\n",
    "from keras.layers import Conv2D, MaxPooling2D,UpSampling2D, Dense, Flatten, Dropout\n",
    "from keras.datasets import cifar10\n",
    "from keras.utils import to_categorical\n",
    "from scipy import misc\n",
    "import glob\n",
    "import os\n",
    "from PIL import Image\n",
    "import matplotlib.pyplot as plt\n",
    "from sklearn.utils import shuffle\n",
    "from sklearn.ensemble import RandomForestClassifier\n",
    "from sklearn.model_selection import cross_val_score\n",
    "from sklearn.preprocessing import StandardScaler\n",
    "from keras.applications.inception_v3 import InceptionV3\n",
    "import pickle\n",
    "\n",
    "from myFunctions import *"
   ]
  },
  {
   "cell_type": "code",
   "execution_count": 3,
   "metadata": {
    "scrolled": true
   },
   "outputs": [],
   "source": [
    "inceptionV3 = InceptionV3(include_top=False, weights=\"imagenet\",input_shape=(217,334,3))\n",
    "inceptionV3.trainable=False"
   ]
  },
  {
   "cell_type": "code",
   "execution_count": 2,
   "metadata": {
    "collapsed": true
   },
   "outputs": [
    {
     "name": "stderr",
     "output_type": "stream",
     "text": [
      "  0%|          | 0/6 [00:00<?, ? labels/s]\n",
      "  0%|          | 0/1000 [00:00<?, ? images/s]\u001b[A\n",
      "  7%|▋         | 66/1000 [00:00<00:01, 655.77 images/s]\u001b[A\n",
      " 15%|█▍        | 148/1000 [00:00<00:01, 696.73 images/s]\u001b[A\n",
      " 23%|██▎       | 230/1000 [00:00<00:01, 728.97 images/s]\u001b[A\n",
      " 32%|███▏      | 316/1000 [00:00<00:00, 762.41 images/s]\u001b[A\n",
      " 40%|████      | 402/1000 [00:00<00:00, 788.36 images/s]\u001b[A\n",
      " 49%|████▊     | 487/1000 [00:00<00:00, 804.58 images/s]\u001b[A\n",
      " 57%|█████▋    | 569/1000 [00:00<00:00, 808.59 images/s]\u001b[A\n",
      " 64%|██████▍   | 645/1000 [00:00<00:00, 786.80 images/s]\u001b[A\n",
      " 73%|███████▎  | 729/1000 [00:00<00:00, 800.68 images/s]\u001b[A\n",
      " 81%|████████  | 807/1000 [00:01<00:00, 780.19 images/s]\u001b[A\n",
      " 88%|████████▊ | 884/1000 [00:01<00:00, 763.63 images/s]\u001b[A\n",
      " 96%|█████████▌| 960/1000 [00:01<00:00, 762.21 images/s]\u001b[A\n",
      " 17%|█▋        | 1/6 [00:01<00:06,  1.29s/ labels]ages/s]\u001b[A\n",
      "  0%|          | 0/1000 [00:00<?, ? images/s]\u001b[A\n",
      "  8%|▊         | 82/1000 [00:00<00:01, 818.39 images/s]\u001b[A\n",
      " 17%|█▋        | 167/1000 [00:00<00:01, 826.84 images/s]\u001b[A\n",
      " 25%|██▌       | 252/1000 [00:00<00:00, 831.35 images/s]\u001b[A\n",
      " 33%|███▎      | 329/1000 [00:00<00:00, 811.35 images/s]\u001b[A\n",
      " 41%|████▏     | 413/1000 [00:00<00:00, 819.68 images/s]\u001b[A\n",
      " 49%|████▉     | 494/1000 [00:00<00:00, 814.92 images/s]\u001b[A\n",
      " 58%|█████▊    | 577/1000 [00:00<00:00, 818.47 images/s]\u001b[A\n",
      " 66%|██████▌   | 660/1000 [00:00<00:00, 820.10 images/s]\u001b[A\n",
      " 74%|███████▍  | 742/1000 [00:00<00:00, 817.63 images/s]\u001b[A\n",
      " 82%|████████▏ | 821/1000 [00:01<00:00, 802.45 images/s]\u001b[A\n",
      " 90%|█████████ | 900/1000 [00:01<00:00, 779.63 images/s]\u001b[A\n",
      " 98%|█████████▊| 981/1000 [00:01<00:00, 786.35 images/s]\u001b[A\n",
      " 33%|███▎      | 2/6 [00:02<00:05,  1.27s/ labels]ages/s]\u001b[A\n",
      "  0%|          | 0/1000 [00:00<?, ? images/s]\u001b[A\n",
      "  8%|▊         | 81/1000 [00:00<00:01, 805.82 images/s]\u001b[A\n",
      " 16%|█▋        | 163/1000 [00:00<00:01, 808.17 images/s]\u001b[A\n",
      " 24%|██▎       | 237/1000 [00:00<00:00, 784.66 images/s]\u001b[A\n",
      " 32%|███▏      | 321/1000 [00:00<00:00, 799.00 images/s]\u001b[A\n",
      " 40%|████      | 403/1000 [00:00<00:00, 804.36 images/s]\u001b[A\n",
      " 48%|████▊     | 478/1000 [00:00<00:00, 786.46 images/s]\u001b[A\n",
      " 56%|█████▌    | 558/1000 [00:00<00:00, 788.49 images/s]\u001b[A\n",
      " 64%|██████▍   | 640/1000 [00:00<00:00, 796.07 images/s]\u001b[A\n",
      " 72%|███████▏  | 716/1000 [00:00<00:00, 769.54 images/s]\u001b[A\n",
      " 80%|███████▉  | 799/1000 [00:01<00:00, 784.16 images/s]\u001b[A\n",
      " 88%|████████▊ | 881/1000 [00:01<00:00, 793.40 images/s]\u001b[A\n",
      " 96%|█████████▋| 965/1000 [00:01<00:00, 805.92 images/s]\u001b[A\n",
      " 67%|██████▋   | 4/6 [00:03<00:02,  1.08s/ labels]ages/s]\u001b[A\n",
      "  0%|          | 0/1000 [00:00<?, ? images/s]\u001b[A\n",
      "  6%|▌         | 60/1000 [00:00<00:01, 596.02 images/s]\u001b[A\n",
      " 12%|█▏        | 123/1000 [00:00<00:01, 605.69 images/s]\u001b[A\n",
      " 18%|█▊        | 184/1000 [00:00<00:01, 606.36 images/s]\u001b[A\n",
      " 24%|██▍       | 244/1000 [00:00<00:01, 603.52 images/s]\u001b[A\n",
      " 31%|███       | 310/1000 [00:00<00:01, 618.17 images/s]\u001b[A\n",
      " 38%|███▊      | 375/1000 [00:00<00:00, 626.97 images/s]\u001b[A\n",
      " 44%|████▍     | 440/1000 [00:00<00:00, 633.56 images/s]\u001b[A\n",
      " 50%|█████     | 504/1000 [00:00<00:00, 633.81 images/s]\u001b[A\n",
      " 57%|█████▋    | 566/1000 [00:00<00:00, 627.34 images/s]\u001b[A\n",
      " 63%|██████▎   | 630/1000 [00:01<00:00, 630.60 images/s]\u001b[A\n",
      " 70%|██████▉   | 696/1000 [00:01<00:00, 638.68 images/s]\u001b[A\n",
      " 76%|███████▋  | 763/1000 [00:01<00:00, 646.54 images/s]\u001b[A\n",
      " 83%|████████▎ | 830/1000 [00:01<00:00, 652.73 images/s]\u001b[A\n",
      " 90%|████████▉ | 897/1000 [00:01<00:00, 655.15 images/s]\u001b[A\n",
      " 96%|█████████▋| 963/1000 [00:01<00:00, 655.55 images/s]\u001b[A\n",
      " 83%|████████▎ | 5/6 [00:05<00:01,  1.23s/ labels]ages/s]\u001b[A\n",
      "  0%|          | 0/1000 [00:00<?, ? images/s]\u001b[A\n",
      "  7%|▋         | 74/1000 [00:00<00:01, 737.36 images/s]\u001b[A\n",
      " 16%|█▌        | 157/1000 [00:00<00:01, 762.88 images/s]\u001b[A\n",
      " 22%|██▎       | 225/1000 [00:00<00:01, 734.48 images/s]\u001b[A\n",
      " 30%|███       | 300/1000 [00:00<00:00, 738.34 images/s]\u001b[A\n",
      " 38%|███▊      | 378/1000 [00:00<00:00, 750.36 images/s]\u001b[A\n",
      " 46%|████▌     | 455/1000 [00:00<00:00, 755.12 images/s]\u001b[A\n",
      " 54%|█████▎    | 535/1000 [00:00<00:00, 765.78 images/s]\u001b[A\n",
      " 62%|██████▏   | 616/1000 [00:00<00:00, 776.04 images/s]\u001b[A\n",
      " 70%|██████▉   | 696/1000 [00:00<00:00, 780.47 images/s]\u001b[A\n",
      " 78%|███████▊  | 776/1000 [00:01<00:00, 785.37 images/s]\u001b[A\n",
      " 85%|████████▌ | 853/1000 [00:01<00:00, 762.54 images/s]\u001b[A\n",
      " 93%|█████████▎| 928/1000 [00:01<00:00, 747.31 images/s]\u001b[A\n",
      "100%|██████████| 6/6 [00:06<00:00,  1.26s/ labels]ages/s]\u001b[A\n"
     ]
    }
   ],
   "source": [
    "X = get_images(\"plots\")\n",
    "Y, labelMap = get_labels(\"plots\")\n",
    "X,Y = shuffle(X,Y)"
   ]
  },
  {
   "cell_type": "code",
   "execution_count": 4,
   "metadata": {},
   "outputs": [
    {
     "name": "stdout",
     "output_type": "stream",
     "text": [
      "5000/5000 [==============================] - 573s 115ms/step\n"
     ]
    }
   ],
   "source": [
    "X_preprocessed = inceptionV3.predict(X, verbose=1)"
   ]
  },
  {
   "cell_type": "code",
   "execution_count": 6,
   "metadata": {},
   "outputs": [],
   "source": [
    "# with open(\"X_preprocessed.pkl\",\"wb\") as f:\n",
    "#     pickle.dump(X_preprocessed, f)"
   ]
  },
  {
   "cell_type": "code",
   "execution_count": 10,
   "metadata": {},
   "outputs": [
    {
     "name": "stdout",
     "output_type": "stream",
     "text": [
      "_________________________________________________________________\n",
      "Layer (type)                 Output Shape              Param #   \n",
      "=================================================================\n",
      "conv2d_96 (Conv2D)           (None, 5, 9, 1)           18433     \n",
      "_________________________________________________________________\n",
      "dropout_1 (Dropout)          (None, 5, 9, 1)           0         \n",
      "_________________________________________________________________\n",
      "flatten_2 (Flatten)          (None, 45)                0         \n",
      "_________________________________________________________________\n",
      "dense_2 (Dense)              (None, 5)                 230       \n",
      "=================================================================\n",
      "Total params: 18,663\n",
      "Trainable params: 18,663\n",
      "Non-trainable params: 0\n",
      "_________________________________________________________________\n"
     ]
    }
   ],
   "source": [
    "model = Sequential()\n",
    "\n",
    "model.add(Conv2D(1,kernel_size=(3,3),padding=\"same\",input_shape=(5, 9, 2048)))\n",
    "model.add(Dropout(0.75))\n",
    "model.add(Flatten())\n",
    "#model.add(Dense(256,activation=\"sigmoid\"))\n",
    "#model.add(Dense(32,activation=\"sigmoid\"))\n",
    "model.add(Dense(Y.shape[1],activation=\"softmax\"))\n",
    "\n",
    "model.compile(optimizer=\"adam\",loss=\"categorical_crossentropy\",metrics=[\"acc\"])\n",
    "model.summary()"
   ]
  },
  {
   "cell_type": "code",
   "execution_count": 13,
   "metadata": {
    "scrolled": true
   },
   "outputs": [
    {
     "name": "stdout",
     "output_type": "stream",
     "text": [
      "Train on 4000 samples, validate on 1000 samples\n",
      "Epoch 1/10\n",
      "4000/4000 [==============================] - 13s 3ms/step - loss: 0.4557 - acc: 0.8203 - val_loss: 0.4338 - val_acc: 0.8360\n",
      "Epoch 2/10\n",
      "4000/4000 [==============================] - 14s 3ms/step - loss: 0.4322 - acc: 0.8257 - val_loss: 0.4152 - val_acc: 0.8410\n",
      "Epoch 3/10\n",
      "4000/4000 [==============================] - 12s 3ms/step - loss: 0.4171 - acc: 0.8363 - val_loss: 0.4227 - val_acc: 0.8310\n",
      "Epoch 4/10\n",
      "4000/4000 [==============================] - 12s 3ms/step - loss: 0.4191 - acc: 0.8425 - val_loss: 0.4645 - val_acc: 0.8200\n",
      "Epoch 5/10\n",
      "4000/4000 [==============================] - 12s 3ms/step - loss: 0.4473 - acc: 0.8240 - val_loss: 0.4259 - val_acc: 0.8360\n",
      "Epoch 6/10\n",
      "4000/4000 [==============================] - 13s 3ms/step - loss: 0.4248 - acc: 0.8335 - val_loss: 0.4297 - val_acc: 0.8300\n",
      "Epoch 7/10\n",
      "4000/4000 [==============================] - 12s 3ms/step - loss: 0.4221 - acc: 0.8347 - val_loss: 0.4198 - val_acc: 0.8340\n",
      "Epoch 8/10\n",
      "4000/4000 [==============================] - 14s 3ms/step - loss: 0.4075 - acc: 0.8400 - val_loss: 0.4074 - val_acc: 0.8400\n",
      "Epoch 9/10\n",
      "4000/4000 [==============================] - 12s 3ms/step - loss: 0.4035 - acc: 0.8327 - val_loss: 0.4354 - val_acc: 0.8320\n",
      "Epoch 10/10\n",
      "4000/4000 [==============================] - 12s 3ms/step - loss: 0.4148 - acc: 0.8360 - val_loss: 0.4143 - val_acc: 0.8380\n"
     ]
    },
    {
     "data": {
      "text/plain": [
       "<keras.callbacks.History at 0x7f78e473e128>"
      ]
     },
     "execution_count": 13,
     "metadata": {},
     "output_type": "execute_result"
    }
   ],
   "source": [
    "model.fit(X_preprocessed,Y,epochs=10,batch_size=128, validation_split=0.2)"
   ]
  },
  {
   "cell_type": "code",
   "execution_count": 9,
   "metadata": {},
   "outputs": [
    {
     "name": "stdout",
     "output_type": "stream",
     "text": [
      "model saved\n"
     ]
    }
   ],
   "source": [
    "save_model(model,\"models/inceptionV3_v1.h5\")"
   ]
  },
  {
   "cell_type": "code",
   "execution_count": null,
   "metadata": {},
   "outputs": [],
   "source": []
  }
 ],
 "metadata": {
  "kernelspec": {
   "display_name": "Python 3",
   "language": "python",
   "name": "python3"
  },
  "language_info": {
   "codemirror_mode": {
    "name": "ipython",
    "version": 3
   },
   "file_extension": ".py",
   "mimetype": "text/x-python",
   "name": "python",
   "nbconvert_exporter": "python",
   "pygments_lexer": "ipython3",
   "version": "3.6.7"
  }
 },
 "nbformat": 4,
 "nbformat_minor": 2
}
