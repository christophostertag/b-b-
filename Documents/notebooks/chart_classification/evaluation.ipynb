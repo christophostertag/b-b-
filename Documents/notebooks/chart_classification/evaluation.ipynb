{
 "cells": [
  {
   "cell_type": "code",
   "execution_count": 1,
   "metadata": {},
   "outputs": [
    {
     "name": "stderr",
     "output_type": "stream",
     "text": [
      "Using TensorFlow backend.\n"
     ]
    }
   ],
   "source": [
    "from myFunctions import *"
   ]
  },
  {
   "cell_type": "code",
   "execution_count": 6,
   "metadata": {},
   "outputs": [
    {
     "name": "stderr",
     "output_type": "stream",
     "text": [
      "100%|██████████| 2/2 [00:00<00:00, 233.63 images/s]\n",
      "100%|██████████| 2/2 [00:00<00:00, 218.97 images/s]\n",
      "100%|██████████| 2/2 [00:00<00:00, 158.60 images/s]\n",
      "100%|██████████| 2/2 [00:00<00:00, 153.05 images/s]\n",
      "100%|██████████| 2/2 [00:00<00:00, 140.29 images/s]\n",
      "100%|██████████| 5/5 [00:00<00:00, 1126.11 labels/s]\n"
     ]
    },
    {
     "name": "stdout",
     "output_type": "stream",
     "text": [
      "\r",
      "10/10 [==============================] - 0s 17ms/step\n"
     ]
    },
    {
     "data": {
      "text/plain": [
       "[0.008449586108326912, 1.0]"
      ]
     },
     "execution_count": 6,
     "metadata": {},
     "output_type": "execute_result"
    }
   ],
   "source": [
    "# sensitivity 0\n",
    "X_test = get_images(\"plots/0\",split=0.2, test_only=True)\n",
    "Y_test, labelMap = get_labels(\"plots/0\",split=0.2, test_only=True)\n",
    "model = load_model(\"models/patternCategorizer_s0_v1.h5\")\n",
    "model.evaluate(X_test,Y_test)"
   ]
  },
  {
   "cell_type": "code",
   "execution_count": 7,
   "metadata": {},
   "outputs": [
    {
     "name": "stderr",
     "output_type": "stream",
     "text": [
      "100%|██████████| 200/200 [00:01<00:00, 174.86 images/s]\n",
      "100%|██████████| 200/200 [00:01<00:00, 163.59 images/s]\n",
      "100%|██████████| 200/200 [00:00<00:00, 249.32 images/s]\n",
      "100%|██████████| 200/200 [00:01<00:00, 171.23 images/s]\n",
      "100%|██████████| 200/200 [00:01<00:00, 192.42 images/s]\n",
      "100%|██████████| 5/5 [00:00<00:00, 110.34 labels/s]\n"
     ]
    },
    {
     "name": "stdout",
     "output_type": "stream",
     "text": [
      "1000/1000 [==============================] - 13s 13ms/step\n"
     ]
    },
    {
     "data": {
      "text/plain": [
       "[0.011018146082758903, 1.0]"
      ]
     },
     "execution_count": 7,
     "metadata": {},
     "output_type": "execute_result"
    }
   ],
   "source": [
    "# sensitivity 10\n",
    "X_test = get_images(\"plots/10\",split=0.2, test_only=True)\n",
    "Y_test, labelMap = get_labels(\"plots/10\",split=0.2, test_only=True)\n",
    "model = load_model(\"models/patternCategorizer_s10_v4.h5\")\n",
    "model.evaluate(X_test,Y_test)"
   ]
  },
  {
   "cell_type": "code",
   "execution_count": 8,
   "metadata": {},
   "outputs": [
    {
     "name": "stderr",
     "output_type": "stream",
     "text": [
      "100%|██████████| 200/200 [00:01<00:00, 180.34 images/s]\n",
      "100%|██████████| 200/200 [00:00<00:00, 271.58 images/s]\n",
      "100%|██████████| 200/200 [00:00<00:00, 262.33 images/s]\n",
      "100%|██████████| 200/200 [00:00<00:00, 425.21 images/s]\n",
      "100%|██████████| 200/200 [00:00<00:00, 293.59 images/s]\n",
      "100%|██████████| 5/5 [00:00<00:00, 116.90 labels/s]\n"
     ]
    },
    {
     "name": "stdout",
     "output_type": "stream",
     "text": [
      "1000/1000 [==============================] - 14s 14ms/step\n"
     ]
    },
    {
     "data": {
      "text/plain": [
       "[0.13149731969833375, 0.959]"
      ]
     },
     "execution_count": 8,
     "metadata": {},
     "output_type": "execute_result"
    }
   ],
   "source": [
    "# sensitivity 30\n",
    "X_test = get_images(\"plots/30\",split=0.2, test_only=True)\n",
    "Y_test, labelMap = get_labels(\"plots/30\",split=0.2, test_only=True)\n",
    "model = load_model(\"models/patternCategorizer_s30_v4.h5\")\n",
    "model.evaluate(X_test,Y_test)"
   ]
  },
  {
   "cell_type": "code",
   "execution_count": 3,
   "metadata": {},
   "outputs": [
    {
     "name": "stderr",
     "output_type": "stream",
     "text": [
      "100%|██████████| 200/200 [00:00<00:00, 420.65 images/s]\n",
      "100%|██████████| 200/200 [00:00<00:00, 544.96 images/s]\n",
      "100%|██████████| 200/200 [00:00<00:00, 569.60 images/s]\n",
      "100%|██████████| 200/200 [00:00<00:00, 531.03 images/s]\n",
      "100%|██████████| 200/200 [00:00<00:00, 594.58 images/s]\n",
      "100%|██████████| 5/5 [00:00<00:00, 222.01 labels/s]\n"
     ]
    },
    {
     "name": "stdout",
     "output_type": "stream",
     "text": [
      "1000/1000 [==============================] - 13s 13ms/step\n"
     ]
    },
    {
     "data": {
      "text/plain": [
       "[0.6550779309272766, 0.737]"
      ]
     },
     "execution_count": 3,
     "metadata": {},
     "output_type": "execute_result"
    }
   ],
   "source": [
    "# sensitivity 50\n",
    "X_test = get_images(\"plots/50\",split=0.2, test_only=True)\n",
    "Y_test, labelMap = get_labels(\"plots/50\",split=0.2, test_only=True)\n",
    "model = load_model(\"models/patternCategorizer_s50_v1.h5\")\n",
    "model.evaluate(X_test,Y_test)"
   ]
  },
  {
   "cell_type": "code",
   "execution_count": 2,
   "metadata": {},
   "outputs": [
    {
     "name": "stderr",
     "output_type": "stream",
     "text": [
      "100%|██████████| 200/200 [00:00<00:00, 329.00 images/s]\n",
      "100%|██████████| 200/200 [00:00<00:00, 412.35 images/s]\n",
      "100%|██████████| 200/200 [00:00<00:00, 401.08 images/s]\n",
      "100%|██████████| 200/200 [00:00<00:00, 392.60 images/s]\n",
      "100%|██████████| 200/200 [00:00<00:00, 215.58 images/s]\n",
      "100%|██████████| 5/5 [00:00<00:00, 154.77 labels/s]\n"
     ]
    },
    {
     "name": "stdout",
     "output_type": "stream",
     "text": [
      "1000/1000 [==============================] - 17s 17ms/step\n"
     ]
    },
    {
     "data": {
      "text/plain": [
       "[1.01139670753479, 0.581]"
      ]
     },
     "execution_count": 2,
     "metadata": {},
     "output_type": "execute_result"
    }
   ],
   "source": [
    "# sensitivity 100\n",
    "X_test = get_images(\"plots/100\",split=0.2, test_only=True)\n",
    "Y_test, labelMap = get_labels(\"plots/100\",split=0.2, test_only=True)\n",
    "model = load_model(\"models/patternCategorizer_s100_v1.h5\")\n",
    "model.evaluate(X_test,Y_test)"
   ]
  },
  {
   "cell_type": "code",
   "execution_count": null,
   "metadata": {},
   "outputs": [],
   "source": []
  }
 ],
 "metadata": {
  "kernelspec": {
   "display_name": "Python 3",
   "language": "python",
   "name": "python3"
  },
  "language_info": {
   "codemirror_mode": {
    "name": "ipython",
    "version": 3
   },
   "file_extension": ".py",
   "mimetype": "text/x-python",
   "name": "python",
   "nbconvert_exporter": "python",
   "pygments_lexer": "ipython3",
   "version": "3.6.7"
  }
 },
 "nbformat": 4,
 "nbformat_minor": 2
}
